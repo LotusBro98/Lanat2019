{
  "nbformat": 4,
  "nbformat_minor": 0,
  "metadata": {
    "colab": {
      "name": "Machine Learning 4.ipynb",
      "version": "0.3.2",
      "provenance": [],
      "collapsed_sections": [],
      "toc_visible": true,
      "include_colab_link": true
    },
    "kernelspec": {
      "name": "python3",
      "display_name": "Python 3"
    }
  },
  "cells": [
    {
      "cell_type": "markdown",
      "metadata": {
        "id": "view-in-github",
        "colab_type": "text"
      },
      "source": [
        "<a href=\"https://colab.research.google.com/github/LotusBro98/Lanat2019/blob/master/Machine_Learning_4.ipynb\" target=\"_parent\"><img src=\"https://colab.research.google.com/assets/colab-badge.svg\" alt=\"Open In Colab\"/></a>"
      ]
    },
    {
      "cell_type": "markdown",
      "metadata": {
        "id": "OWk1uON6fKQa",
        "colab_type": "text"
      },
      "source": [
        "# Машинное обучение\n",
        "## Генеративные состязательные сети\n",
        "\n",
        "---\n",
        "\n",
        "<img width=\"100%\" src=\"https://pa1.narvii.com/6910/9641f0ed17e10ad698e4e9c23a3de25550339fc5r1-811-397_hq.gif\">\n",
        "\n",
        "---"
      ]
    },
    {
      "cell_type": "markdown",
      "metadata": {
        "id": "HPhkhNr6lDp7",
        "colab_type": "text"
      },
      "source": [
        "В данном примере будет рассмотрена архитектура DCGAN для генерации Pixel Art персонажей"
      ]
    },
    {
      "cell_type": "code",
      "metadata": {
        "id": "rB2uz6sFfPes",
        "colab_type": "code",
        "colab": {}
      },
      "source": [
        "!pip install tensorflow-gpu==2.0.0-beta1\n",
        "import tensorflow as tf"
      ],
      "execution_count": 0,
      "outputs": []
    },
    {
      "cell_type": "code",
      "metadata": {
        "id": "oFyq_0lsroRT",
        "colab_type": "code",
        "colab": {}
      },
      "source": [
        "import matplotlib.pyplot as plt\n",
        "%matplotlib inline\n",
        "\n",
        "import os\n",
        "import glob\n",
        "import random\n",
        "\n",
        "import tensorflow.keras.layers as layers"
      ],
      "execution_count": 0,
      "outputs": []
    },
    {
      "cell_type": "code",
      "metadata": {
        "id": "whWUYLRysq5y",
        "colab_type": "code",
        "colab": {}
      },
      "source": [
        "SIZE = 64\n",
        "MAX_IMAGES = 1000\n",
        "OUTPUT_CHANNELS = 4\n",
        "N_INPUT_PARAMS = 512"
      ],
      "execution_count": 0,
      "outputs": []
    },
    {
      "cell_type": "markdown",
      "metadata": {
        "id": "Q19LS6k7lnsn",
        "colab_type": "text"
      },
      "source": [
        "## Загрузим и подготовим датасет"
      ]
    },
    {
      "cell_type": "code",
      "metadata": {
        "id": "EegzwoE1n1zj",
        "colab_type": "code",
        "colab": {}
      },
      "source": [
        "from google.colab import drive\n",
        "drive.mount('/content/drive')\n",
        "\n",
        "app_dir = \"/content/drive/My Drive/pixelartgen\"\n",
        "!mkdir -p \"{app_dir}\"\n",
        "os.chdir(app_dir)\n",
        "\n",
        "img_dir = \"images\"\n",
        "!mkdir -p \"{img_dir}\""
      ],
      "execution_count": 0,
      "outputs": []
    },
    {
      "cell_type": "code",
      "metadata": {
        "id": "0JCRNL6-oj0O",
        "colab_type": "code",
        "colab": {}
      },
      "source": [
        "def load_image(filename):\n",
        "  image = tf.io.read_file(filename)\n",
        "  image = tf.io.decode_image(image, channels=4)\n",
        "\n",
        "  image = tf.image.resize(image, (SIZE, SIZE), method='nearest')\n",
        "  image = tf.cast(image, tf.float32)\n",
        "  image = image / 127.5 - 1.0\n",
        "\n",
        "  return image"
      ],
      "execution_count": 0,
      "outputs": []
    },
    {
      "cell_type": "code",
      "metadata": {
        "id": "7lebJSCmrzni",
        "colab_type": "code",
        "colab": {}
      },
      "source": [
        "files = glob.glob(os.path.join(img_dir, \"*.*\"))\n",
        "files = files[:MAX_IMAGES]\n",
        "train_images = list(map(load_image, files))\n",
        "train_images = tf.stack(train_images)\n",
        "\n",
        "print(train_images.shape)"
      ],
      "execution_count": 0,
      "outputs": []
    },
    {
      "cell_type": "markdown",
      "metadata": {
        "id": "RTFhj5kLui2t",
        "colab_type": "text"
      },
      "source": [
        "### Отобразим несколько картинок из датасета"
      ]
    },
    {
      "cell_type": "code",
      "metadata": {
        "id": "ajQCcgVRuhBZ",
        "colab_type": "code",
        "colab": {}
      },
      "source": [
        "N_PLOTS = 8\n",
        "plt.figure(figsize=(10, 10))\n",
        "for i in range(N_PLOTS * N_PLOTS):\n",
        "  plt.subplot(N_PLOTS, N_PLOTS, i + 1)\n",
        "  plt.imshow(random.choice(train_images) * 0.5 + 0.5)\n",
        "  plt.axis('off')\n",
        "plt.show()"
      ],
      "execution_count": 0,
      "outputs": []
    },
    {
      "cell_type": "markdown",
      "metadata": {
        "id": "LEm1RFGJv3WK",
        "colab_type": "text"
      },
      "source": [
        "## Определим модель генератора"
      ]
    },
    {
      "cell_type": "code",
      "metadata": {
        "id": "m6nrrQKfwJTv",
        "colab_type": "code",
        "colab": {}
      },
      "source": [
        "def upsample(x, filters, size):\n",
        "    x = layers.Conv2DTranspose(filters, (size, size), strides=(2, 2), padding='same', use_bias=False)(x)\n",
        "    x = layers.BatchNormalization()(x)\n",
        "    x = layers.LeakyReLU()(x)\n",
        "    return x"
      ],
      "execution_count": 0,
      "outputs": []
    },
    {
      "cell_type": "code",
      "metadata": {
        "id": "hsVLqLXwvQDU",
        "colab_type": "code",
        "colab": {}
      },
      "source": [
        "def make_generator_model():\n",
        "    inputs = layers.Input(shape=(N_INPUT_PARAMS,))\n",
        "    x = inputs\n",
        "\n",
        "    x = layers.Dense(512, use_bias=False)(x)\n",
        "    x = layers.BatchNormalization()(x)\n",
        "    x = layers.LeakyReLU()(x)\n",
        "\n",
        "    x = layers.Reshape((1, 1, 512))(x)\n",
        "\n",
        "    x = upsample(x, 256, 5)     # 2 x 2 x 256\n",
        "    x = upsample(x, 128, 5)     # 4 x 4 x 128\n",
        "    x = upsample(x, 64, 5)      # 8 x 8 x 64\n",
        "    x = upsample(x, 32, 5)      # 16 x 16 x 32\n",
        "    x = upsample(x, 16, 5)      # 32 x 32 x 16\n",
        "    x = upsample(x, 8, 5)       # 64 x 64 x 8\n",
        "\n",
        "    x = layers.Conv2DTranspose(OUTPUT_CHANNELS, (5, 5), padding='same', use_bias=False, activation='tanh')(x)\n",
        "    \n",
        "    print(x.shape)              # 64 x 64 x 4\n",
        "    assert tuple(x.shape) == (None, SIZE, SIZE, OUTPUT_CHANNELS)\n",
        "\n",
        "    model = tf.keras.Model(inputs=inputs, outputs=x)\n",
        "\n",
        "    return model\n",
        "\n",
        "generator = make_generator_model()"
      ],
      "execution_count": 0,
      "outputs": []
    }
  ]
}